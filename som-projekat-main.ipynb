{
 "cells": [
  {
   "cell_type": "code",
   "execution_count": 826,
   "metadata": {},
   "outputs": [],
   "source": [
    "# učitavanje biblioteka \n",
    "import pandas as pd"
   ]
  },
  {
   "attachments": {},
   "cell_type": "markdown",
   "metadata": {},
   "source": [
    "# 1. Učitavanje baze i analiza podataka"
   ]
  },
  {
   "cell_type": "code",
   "execution_count": 827,
   "metadata": {},
   "outputs": [
    {
     "name": "stdout",
     "output_type": "stream",
     "text": [
      "(187, 37)\n"
     ]
    }
   ],
   "source": [
    "data = pd.read_csv('03_bone_marrow_dataset.csv')\n",
    "print(data.shape)"
   ]
  },
  {
   "cell_type": "code",
   "execution_count": 828,
   "metadata": {},
   "outputs": [
    {
     "data": {
      "text/html": [
       "<div>\n",
       "<style scoped>\n",
       "    .dataframe tbody tr th:only-of-type {\n",
       "        vertical-align: middle;\n",
       "    }\n",
       "\n",
       "    .dataframe tbody tr th {\n",
       "        vertical-align: top;\n",
       "    }\n",
       "\n",
       "    .dataframe thead th {\n",
       "        text-align: right;\n",
       "    }\n",
       "</style>\n",
       "<table border=\"1\" class=\"dataframe\">\n",
       "  <thead>\n",
       "    <tr style=\"text-align: right;\">\n",
       "      <th></th>\n",
       "      <th>Recipientgender</th>\n",
       "      <th>Stemcellsource</th>\n",
       "      <th>Donorage numeric</th>\n",
       "      <th>Donorage35</th>\n",
       "      <th>IIIV</th>\n",
       "      <th>Gendermatch</th>\n",
       "      <th>DonorABO</th>\n",
       "      <th>RecipientABO</th>\n",
       "      <th>RecipientRh</th>\n",
       "      <th>ABOmatch</th>\n",
       "      <th>...</th>\n",
       "      <th>extcGvHD</th>\n",
       "      <th>CD34kgx10d6 numeric</th>\n",
       "      <th>CD3dCD34 numeric</th>\n",
       "      <th>CD3dkgx10d8 numeric</th>\n",
       "      <th>Rbodymass numeric</th>\n",
       "      <th>ANCrecovery numeric</th>\n",
       "      <th>PLTrecovery numeric</th>\n",
       "      <th>time_to_aGvHD_III_IV numeric</th>\n",
       "      <th>survival_time numeric</th>\n",
       "      <th>survival_status numeric</th>\n",
       "    </tr>\n",
       "  </thead>\n",
       "  <tbody>\n",
       "    <tr>\n",
       "      <th>0</th>\n",
       "      <td>1</td>\n",
       "      <td>1</td>\n",
       "      <td>22.830137</td>\n",
       "      <td>0</td>\n",
       "      <td>1</td>\n",
       "      <td>0</td>\n",
       "      <td>1</td>\n",
       "      <td>1</td>\n",
       "      <td>1</td>\n",
       "      <td>0</td>\n",
       "      <td>...</td>\n",
       "      <td>1</td>\n",
       "      <td>7.20</td>\n",
       "      <td>1.33876</td>\n",
       "      <td>5.38</td>\n",
       "      <td>35</td>\n",
       "      <td>19</td>\n",
       "      <td>51</td>\n",
       "      <td>32</td>\n",
       "      <td>999</td>\n",
       "      <td>0</td>\n",
       "    </tr>\n",
       "    <tr>\n",
       "      <th>1</th>\n",
       "      <td>1</td>\n",
       "      <td>0</td>\n",
       "      <td>23.342466</td>\n",
       "      <td>0</td>\n",
       "      <td>1</td>\n",
       "      <td>0</td>\n",
       "      <td>-1</td>\n",
       "      <td>-1</td>\n",
       "      <td>1</td>\n",
       "      <td>0</td>\n",
       "      <td>...</td>\n",
       "      <td>1</td>\n",
       "      <td>4.50</td>\n",
       "      <td>11.078295</td>\n",
       "      <td>0.41</td>\n",
       "      <td>20.6</td>\n",
       "      <td>16</td>\n",
       "      <td>37</td>\n",
       "      <td>1000000</td>\n",
       "      <td>163</td>\n",
       "      <td>1</td>\n",
       "    </tr>\n",
       "    <tr>\n",
       "      <th>2</th>\n",
       "      <td>1</td>\n",
       "      <td>0</td>\n",
       "      <td>26.394521</td>\n",
       "      <td>0</td>\n",
       "      <td>1</td>\n",
       "      <td>0</td>\n",
       "      <td>-1</td>\n",
       "      <td>-1</td>\n",
       "      <td>1</td>\n",
       "      <td>0</td>\n",
       "      <td>...</td>\n",
       "      <td>1</td>\n",
       "      <td>7.94</td>\n",
       "      <td>19.01323</td>\n",
       "      <td>0.42</td>\n",
       "      <td>23.4</td>\n",
       "      <td>23</td>\n",
       "      <td>20</td>\n",
       "      <td>1000000</td>\n",
       "      <td>435</td>\n",
       "      <td>1</td>\n",
       "    </tr>\n",
       "    <tr>\n",
       "      <th>3</th>\n",
       "      <td>0</td>\n",
       "      <td>0</td>\n",
       "      <td>39.684932</td>\n",
       "      <td>1</td>\n",
       "      <td>1</td>\n",
       "      <td>0</td>\n",
       "      <td>1</td>\n",
       "      <td>2</td>\n",
       "      <td>1</td>\n",
       "      <td>1</td>\n",
       "      <td>...</td>\n",
       "      <td>?</td>\n",
       "      <td>4.25</td>\n",
       "      <td>29.481647</td>\n",
       "      <td>0.14</td>\n",
       "      <td>50</td>\n",
       "      <td>23</td>\n",
       "      <td>29</td>\n",
       "      <td>19</td>\n",
       "      <td>53</td>\n",
       "      <td>1</td>\n",
       "    </tr>\n",
       "    <tr>\n",
       "      <th>4</th>\n",
       "      <td>0</td>\n",
       "      <td>1</td>\n",
       "      <td>33.358904</td>\n",
       "      <td>0</td>\n",
       "      <td>0</td>\n",
       "      <td>0</td>\n",
       "      <td>1</td>\n",
       "      <td>2</td>\n",
       "      <td>0</td>\n",
       "      <td>1</td>\n",
       "      <td>...</td>\n",
       "      <td>1</td>\n",
       "      <td>51.85</td>\n",
       "      <td>3.972255</td>\n",
       "      <td>13.05</td>\n",
       "      <td>9</td>\n",
       "      <td>14</td>\n",
       "      <td>14</td>\n",
       "      <td>1000000</td>\n",
       "      <td>2043</td>\n",
       "      <td>0</td>\n",
       "    </tr>\n",
       "    <tr>\n",
       "      <th>...</th>\n",
       "      <td>...</td>\n",
       "      <td>...</td>\n",
       "      <td>...</td>\n",
       "      <td>...</td>\n",
       "      <td>...</td>\n",
       "      <td>...</td>\n",
       "      <td>...</td>\n",
       "      <td>...</td>\n",
       "      <td>...</td>\n",
       "      <td>...</td>\n",
       "      <td>...</td>\n",
       "      <td>...</td>\n",
       "      <td>...</td>\n",
       "      <td>...</td>\n",
       "      <td>...</td>\n",
       "      <td>...</td>\n",
       "      <td>...</td>\n",
       "      <td>...</td>\n",
       "      <td>...</td>\n",
       "      <td>...</td>\n",
       "      <td>...</td>\n",
       "    </tr>\n",
       "    <tr>\n",
       "      <th>182</th>\n",
       "      <td>1</td>\n",
       "      <td>1</td>\n",
       "      <td>37.575342</td>\n",
       "      <td>1</td>\n",
       "      <td>1</td>\n",
       "      <td>0</td>\n",
       "      <td>1</td>\n",
       "      <td>1</td>\n",
       "      <td>0</td>\n",
       "      <td>0</td>\n",
       "      <td>...</td>\n",
       "      <td>1</td>\n",
       "      <td>11.08</td>\n",
       "      <td>2.52275</td>\n",
       "      <td>4.39</td>\n",
       "      <td>44</td>\n",
       "      <td>15</td>\n",
       "      <td>22</td>\n",
       "      <td>16</td>\n",
       "      <td>385</td>\n",
       "      <td>1</td>\n",
       "    </tr>\n",
       "    <tr>\n",
       "      <th>183</th>\n",
       "      <td>0</td>\n",
       "      <td>1</td>\n",
       "      <td>22.895890</td>\n",
       "      <td>0</td>\n",
       "      <td>0</td>\n",
       "      <td>0</td>\n",
       "      <td>1</td>\n",
       "      <td>0</td>\n",
       "      <td>1</td>\n",
       "      <td>1</td>\n",
       "      <td>...</td>\n",
       "      <td>1</td>\n",
       "      <td>4.64</td>\n",
       "      <td>1.038858</td>\n",
       "      <td>4.47</td>\n",
       "      <td>44.5</td>\n",
       "      <td>12</td>\n",
       "      <td>30</td>\n",
       "      <td>1000000</td>\n",
       "      <td>634</td>\n",
       "      <td>1</td>\n",
       "    </tr>\n",
       "    <tr>\n",
       "      <th>184</th>\n",
       "      <td>0</td>\n",
       "      <td>1</td>\n",
       "      <td>27.347945</td>\n",
       "      <td>0</td>\n",
       "      <td>1</td>\n",
       "      <td>0</td>\n",
       "      <td>1</td>\n",
       "      <td>-1</td>\n",
       "      <td>1</td>\n",
       "      <td>1</td>\n",
       "      <td>...</td>\n",
       "      <td>1</td>\n",
       "      <td>7.73</td>\n",
       "      <td>1.635559</td>\n",
       "      <td>4.73</td>\n",
       "      <td>33</td>\n",
       "      <td>16</td>\n",
       "      <td>16</td>\n",
       "      <td>1000000</td>\n",
       "      <td>1895</td>\n",
       "      <td>0</td>\n",
       "    </tr>\n",
       "    <tr>\n",
       "      <th>185</th>\n",
       "      <td>1</td>\n",
       "      <td>1</td>\n",
       "      <td>27.780822</td>\n",
       "      <td>0</td>\n",
       "      <td>1</td>\n",
       "      <td>0</td>\n",
       "      <td>1</td>\n",
       "      <td>0</td>\n",
       "      <td>1</td>\n",
       "      <td>1</td>\n",
       "      <td>...</td>\n",
       "      <td>0</td>\n",
       "      <td>15.41</td>\n",
       "      <td>8.07777</td>\n",
       "      <td>1.91</td>\n",
       "      <td>24</td>\n",
       "      <td>13</td>\n",
       "      <td>14</td>\n",
       "      <td>54</td>\n",
       "      <td>382</td>\n",
       "      <td>1</td>\n",
       "    </tr>\n",
       "    <tr>\n",
       "      <th>186</th>\n",
       "      <td>1</td>\n",
       "      <td>1</td>\n",
       "      <td>55.553425</td>\n",
       "      <td>1</td>\n",
       "      <td>1</td>\n",
       "      <td>0</td>\n",
       "      <td>1</td>\n",
       "      <td>2</td>\n",
       "      <td>1</td>\n",
       "      <td>1</td>\n",
       "      <td>...</td>\n",
       "      <td>1</td>\n",
       "      <td>9.91</td>\n",
       "      <td>0.948135</td>\n",
       "      <td>10.45</td>\n",
       "      <td>37</td>\n",
       "      <td>18</td>\n",
       "      <td>20</td>\n",
       "      <td>1000000</td>\n",
       "      <td>1109</td>\n",
       "      <td>0</td>\n",
       "    </tr>\n",
       "  </tbody>\n",
       "</table>\n",
       "<p>187 rows × 37 columns</p>\n",
       "</div>"
      ],
      "text/plain": [
       "     Recipientgender  Stemcellsource  Donorage numeric  Donorage35  IIIV  \\\n",
       "0                  1               1         22.830137           0     1   \n",
       "1                  1               0         23.342466           0     1   \n",
       "2                  1               0         26.394521           0     1   \n",
       "3                  0               0         39.684932           1     1   \n",
       "4                  0               1         33.358904           0     0   \n",
       "..               ...             ...               ...         ...   ...   \n",
       "182                1               1         37.575342           1     1   \n",
       "183                0               1         22.895890           0     0   \n",
       "184                0               1         27.347945           0     1   \n",
       "185                1               1         27.780822           0     1   \n",
       "186                1               1         55.553425           1     1   \n",
       "\n",
       "     Gendermatch  DonorABO RecipientABO RecipientRh ABOmatch  ... extcGvHD  \\\n",
       "0              0         1            1           1        0  ...        1   \n",
       "1              0        -1           -1           1        0  ...        1   \n",
       "2              0        -1           -1           1        0  ...        1   \n",
       "3              0         1            2           1        1  ...        ?   \n",
       "4              0         1            2           0        1  ...        1   \n",
       "..           ...       ...          ...         ...      ...  ...      ...   \n",
       "182            0         1            1           0        0  ...        1   \n",
       "183            0         1            0           1        1  ...        1   \n",
       "184            0         1           -1           1        1  ...        1   \n",
       "185            0         1            0           1        1  ...        0   \n",
       "186            0         1            2           1        1  ...        1   \n",
       "\n",
       "    CD34kgx10d6 numeric CD3dCD34 numeric CD3dkgx10d8 numeric  \\\n",
       "0                  7.20          1.33876                5.38   \n",
       "1                  4.50        11.078295                0.41   \n",
       "2                  7.94         19.01323                0.42   \n",
       "3                  4.25        29.481647                0.14   \n",
       "4                 51.85         3.972255               13.05   \n",
       "..                  ...              ...                 ...   \n",
       "182               11.08          2.52275                4.39   \n",
       "183                4.64         1.038858                4.47   \n",
       "184                7.73         1.635559                4.73   \n",
       "185               15.41          8.07777                1.91   \n",
       "186                9.91         0.948135               10.45   \n",
       "\n",
       "     Rbodymass numeric  ANCrecovery numeric  PLTrecovery numeric  \\\n",
       "0                   35                   19                   51   \n",
       "1                 20.6                   16                   37   \n",
       "2                 23.4                   23                   20   \n",
       "3                   50                   23                   29   \n",
       "4                    9                   14                   14   \n",
       "..                 ...                  ...                  ...   \n",
       "182                 44                   15                   22   \n",
       "183               44.5                   12                   30   \n",
       "184                 33                   16                   16   \n",
       "185                 24                   13                   14   \n",
       "186                 37                   18                   20   \n",
       "\n",
       "     time_to_aGvHD_III_IV numeric  survival_time numeric  \\\n",
       "0                              32                    999   \n",
       "1                         1000000                    163   \n",
       "2                         1000000                    435   \n",
       "3                              19                     53   \n",
       "4                         1000000                   2043   \n",
       "..                            ...                    ...   \n",
       "182                            16                    385   \n",
       "183                       1000000                    634   \n",
       "184                       1000000                   1895   \n",
       "185                            54                    382   \n",
       "186                       1000000                   1109   \n",
       "\n",
       "    survival_status numeric  \n",
       "0                         0  \n",
       "1                         1  \n",
       "2                         1  \n",
       "3                         1  \n",
       "4                         0  \n",
       "..                      ...  \n",
       "182                       1  \n",
       "183                       1  \n",
       "184                       0  \n",
       "185                       1  \n",
       "186                       0  \n",
       "\n",
       "[187 rows x 37 columns]"
      ]
     },
     "execution_count": 828,
     "metadata": {},
     "output_type": "execute_result"
    }
   ],
   "source": [
    "# brišemo razmak na kraju naziva atributa (lakše je za kasniju analizu)\n",
    "for attribute in data.columns:\n",
    "    if(attribute[-1] == ' '):\n",
    "        data.rename(columns = {attribute:attribute[0:-1]}, inplace = True)\n",
    "attributes = data.columns\n",
    "data"
   ]
  },
  {
   "attachments": {},
   "cell_type": "markdown",
   "metadata": {},
   "source": [
    "Podaci koji se nalaze u bazi:       \n",
    "\n",
    "1. Recipientgender - pol pacijenta: 0 ili 1    \n",
    "2. Stemcellsource - izvor ćelija (kvr ili koštana srž): 0 ili 1\n",
    "3. Donorage numeric - broj godina donora: float num 18.646575 - 55.553425\n",
    "4. Donorage35 - da li je starost donora manja od 35 godina\n",
    "5. IIIV - razvoj bolesti transplantata 3. ili 4. stepena: 0 ili 1 \n",
    "6. Gendermatch - kompatibilnost donora i promaoca po polu: 0 ili 1\n",
    "7. DonorABO - krvna grupa donora: -1, 0, 1, 2\n",
    "8. <font color=red>RecipientABO - krvna grupa pacijenta: -1, 0, 1, 2</font>\n",
    "9. <font color=red>RecipientRh - da li pacijent ima Rh raktor: 0 ili 1</font>\n",
    "10. <font color=red>ABOmatch - kompatibilnost pacijenta i donora po krvnoj grupi: 0 ili 1</font>\n",
    "11. <font color=red>CMVstatus - kompatibilnost pacijenta i donora prema citomegalo virusu koji se može razviti (što je veća kompatibilnost to je lošije po pacijenta): num 0, 1, 2, 3 i ? </font>\n",
    "12. <font color=red>DonorCMV - postojanje citomegalo virusne infekcije kod donora pre transplantacije: 0 ili 1 </font>\n",
    "13. <font color=red>RecipientCMV - postojanje citomegalo virusne infekcije kod pacijenta pre transplantacije: 0 ili 1 </font>\n",
    "14. Disease - vrsta bolesti: ALL, AML, chronic, nonmalignant, lymphoma\n",
    "15. Riskgroup - rizična grupa: 0 ili 1\n",
    "16. Txpostrelapse - da li je rađena druga transplantacija nakon što je prva prošla loše: 0 ili 1\n",
    "17. Diseasegroup - da li je oboljenje maligno ili nije: 0 ili 1\n",
    "18. HLAmatch - grupe antigena donora i primaoca: 0, 1, 2, 3\n",
    "19. HLAmismatch - da li su se antigeni poklopili: 0 ili 1\n",
    "20. <font color=red>Antigen - u koliko antigena postoji razlika između donora i pacijenta: -1, 0, 1, 2 i ?</font>\n",
    "21. <font color=red>Alel - u koliko allela postoji razlika između donora i pacijenta: -1, 0, 1, 2, 3, ?</font>\n",
    "22. HLAgrI - razlika između donora i primaoca u parametrima kao što su antigen, alel, HLA, itd: 0, 1, 2, 3, 4, 5, 6, 7\n",
    "23. Recipientage numeric - starost pacijenta u trenutku transplantacije: 0.6 - 20.2\n",
    "24. Recipientage10 - da li je starost pacijenta manja od 10 godina: 0 ili 1 \n",
    "25. Recipientageint - godište pacijenta diskretizovano po intervalima: 0, 1, 2\n",
    "26. Relapse - povratak bolesti: 0 ili 1\n",
    "27. aGvHDIIIIV - da li se razvila neka bolest 3. i 4. stepena: 0 ili 1\n",
    "28. <font color=red>extcGvHD - da li se razvila neka bolest 3. i 4. stepena: 0, 1 i ?</font>\n",
    "29. CD34kgx10d6 numeric - doza neke vrste ćelija skalirana po težini čoveka: float 0.79 - 57.78 \n",
    "30. <font color=red>CD3dCD34 numeric - doza druge vrste ćelija skalirana po dozi druge vrste: float 0 - 99.56097 i ?</font>\n",
    "31. <font color=red>CD3dkgx10d8 numeric - doza neke vrste ćelija skalirana po težini čoveka: float 0 - 20.02 i ?</font>\n",
    "32. <font color=red>Rbodymass numeric - bodymass indeks pacijenta: float 0 - 103.4 i ?</font>\n",
    "33. <font color=green>ANCrecovery numeric - oporavak neutrofila definisan kao njihov broj (>0.5 je da) : float 9 - 26.0 i 1000000.0 (nisam sigurna da li je ovo neki fuš podatak)</font>\n",
    "34. <font color=green>PLTrecovery numeric - oporavak trombocita definisam njihov broj (>50000 da): float 9 - 285 i 1000000.0 (isti komentar)</font>\n",
    "35. <font color=green>time_to_aGvHD_III_IV numeric - vreme u danima proteklo do razvoja akutne bolesti transplantata 3. ili 4. stepena: 10 - 100 i 1000000 (isti komentar)</font>\n",
    "36. survival_time numeric - vreme posmatranja (u slučaju živog pacijenta) ili vreme do smrti: 6 - 3364\n",
    "37. survival_status numeric - da li je osoba živa ili mrtva: 0 ili 1\n"
   ]
  },
  {
   "cell_type": "code",
   "execution_count": 829,
   "metadata": {},
   "outputs": [
    {
     "name": "stdout",
     "output_type": "stream",
     "text": [
      "{dtype('int64'), dtype('O'), dtype('float64')}\n"
     ]
    },
    {
     "data": {
      "text/plain": [
       "RecipientABO           object\n",
       "RecipientRh            object\n",
       "ABOmatch               object\n",
       "CMVstatus              object\n",
       "DonorCMV               object\n",
       "RecipientCMV           object\n",
       "Disease                object\n",
       "Antigen                object\n",
       "Alel                   object\n",
       "extcGvHD               object\n",
       "CD3dCD34 numeric       object\n",
       "CD3dkgx10d8 numeric    object\n",
       "Rbodymass numeric      object\n",
       "dtype: object"
      ]
     },
     "execution_count": 829,
     "metadata": {},
     "output_type": "execute_result"
    }
   ],
   "source": [
    "print(set(data.dtypes))\n",
    "data.dtypes[data.dtypes == 'O']"
   ]
  },
  {
   "attachments": {},
   "cell_type": "markdown",
   "metadata": {},
   "source": [
    "U tabeli se nalaze vrednosti koje nisu samo numeričke ( int / float ).     \n",
    "Potrebno je proveriti da li neke kolone koje imaju više tipova podataka (njihov tip je object) sadrže i nepostojeće vrednosti (obeležene su sa \"?\" npr). Kolone koje sadrže neprihvaćene vrednosti su u podacima obeležene crvenom bojom."
   ]
  },
  {
   "attachments": {},
   "cell_type": "markdown",
   "metadata": {},
   "source": [
    "#### Sređivanje podataka"
   ]
  },
  {
   "attachments": {},
   "cell_type": "markdown",
   "metadata": {},
   "source": [
    "Ni u jednoj klasi fičera ne nedostaje veliki broj vrednosti, tako da se sve nevalidne vrednosti menjaju medianom (vrednosti sa nejvećim brojem ponavljanja)."
   ]
  },
  {
   "cell_type": "code",
   "execution_count": 830,
   "metadata": {},
   "outputs": [],
   "source": [
    "def find_median(col):\n",
    "    sorted_list = sorted(list(data[col][data[col] != '?']))\n",
    "    return sorted_list[len(sorted_list)//2]"
   ]
  },
  {
   "cell_type": "code",
   "execution_count": 831,
   "metadata": {},
   "outputs": [],
   "source": [
    "# zamena vrednosti '?' medianom\n",
    "data['RecipientABO'] = data['RecipientABO'].replace('?', int(find_median('RecipientABO')))\n",
    "data['RecipientRh'] = data['RecipientRh'].replace('?', int(find_median('RecipientRh')))\n",
    "data['ABOmatch'] = data['ABOmatch'].replace('?', int(find_median('ABOmatch')))\n",
    "data['CMVstatus'] = data['CMVstatus'].replace('?', int(find_median('CMVstatus')))\n",
    "data['DonorCMV'] = data['DonorCMV'].replace('?', int(find_median('DonorCMV')))\n",
    "data['RecipientCMV'] = data['RecipientCMV'].replace('?', int(find_median('RecipientCMV')))\n",
    "data['Antigen'] = data['Antigen'].replace('?', int(find_median('Antigen')))\n",
    "data['Alel'] = data['Alel'].replace('?', int(find_median('Alel')))\n",
    "data['extcGvHD'] = data['extcGvHD'].replace('?', int(find_median('extcGvHD')))\n",
    "data['CD3dCD34 numeric'] = data['CD3dCD34 numeric'].replace('?', float(find_median('CD3dCD34 numeric')))\n",
    "data['CD3dkgx10d8 numeric'] = data['CD3dkgx10d8 numeric'].replace('?', float(find_median('CD3dkgx10d8 numeric')))\n",
    "data['Rbodymass numeric'] = data['Rbodymass numeric'].replace('?', float(find_median('Rbodymass numeric')))"
   ]
  },
  {
   "attachments": {},
   "cell_type": "markdown",
   "metadata": {},
   "source": [
    "Svi podaci koji su brojevi a predstavljeni su kao string u bazi se konvertuju u odgovarajući tip podataka"
   ]
  },
  {
   "cell_type": "code",
   "execution_count": 832,
   "metadata": {},
   "outputs": [],
   "source": [
    "data['RecipientABO'] = data['RecipientABO'].astype('int64')\n",
    "data['RecipientRh'] = data['RecipientRh'].astype('int64')\n",
    "data['ABOmatch'] = data['ABOmatch'].astype('int64')\n",
    "data['CMVstatus'] = data['CMVstatus'].astype('int64')\n",
    "data['DonorCMV'] = data['DonorCMV'].astype('int64')\n",
    "data['RecipientCMV'] = data['RecipientCMV'].astype('int64')\n",
    "data['Antigen'] = data['Antigen'].astype('int64')\n",
    "data['Alel'] = data['Alel'].astype('int64')\n",
    "data['extcGvHD'] = data['extcGvHD'].astype('int64')\n",
    "data['CD3dCD34 numeric'] = data['CD3dCD34 numeric'].astype('float64')\n",
    "data['CD3dkgx10d8 numeric'] = data['CD3dkgx10d8 numeric'].astype('float64')\n",
    "data['Rbodymass numeric'] = data['Rbodymass numeric'].astype('float64')"
   ]
  },
  {
   "attachments": {},
   "cell_type": "markdown",
   "metadata": {},
   "source": [
    "Kodovanje kategoričkog atributa disease "
   ]
  },
  {
   "cell_type": "code",
   "execution_count": 833,
   "metadata": {},
   "outputs": [
    {
     "name": "stdout",
     "output_type": "stream",
     "text": [
      "{'chronic', 'lymphoma', 'AML', 'nonmalignant', 'ALL'}\n"
     ]
    },
    {
     "data": {
      "text/plain": [
       "0      4\n",
       "1      4\n",
       "2      4\n",
       "3      2\n",
       "4      0\n",
       "      ..\n",
       "182    1\n",
       "183    2\n",
       "184    3\n",
       "185    0\n",
       "186    3\n",
       "Name: Disease, Length: 187, dtype: int64"
      ]
     },
     "execution_count": 833,
     "metadata": {},
     "output_type": "execute_result"
    }
   ],
   "source": [
    "print(set(data['Disease']))\n",
    "data = data.replace({'Disease' : {'chronic' : 0, 'lymphoma' : 1, 'AML' : 2, 'nonmalignant' : 3, 'ALL': 4}})\n",
    "data['Disease']"
   ]
  },
  {
   "cell_type": "code",
   "execution_count": 834,
   "metadata": {},
   "outputs": [
    {
     "data": {
      "text/plain": [
       "Recipientgender                   int64\n",
       "Stemcellsource                    int64\n",
       "Donorage numeric                float64\n",
       "Donorage35                        int64\n",
       "IIIV                              int64\n",
       "Gendermatch                       int64\n",
       "DonorABO                          int64\n",
       "RecipientABO                      int64\n",
       "RecipientRh                       int64\n",
       "ABOmatch                          int64\n",
       "CMVstatus                         int64\n",
       "DonorCMV                          int64\n",
       "RecipientCMV                      int64\n",
       "Disease                           int64\n",
       "Riskgroup                         int64\n",
       "Txpostrelapse                     int64\n",
       "Diseasegroup                      int64\n",
       "HLAmatch                          int64\n",
       "HLAmismatch                       int64\n",
       "Antigen                           int64\n",
       "Alel                              int64\n",
       "HLAgrI                            int64\n",
       "Recipientage numeric            float64\n",
       "Recipientage10                    int64\n",
       "Recipientageint                   int64\n",
       "Relapse                           int64\n",
       "aGvHDIIIIV                        int64\n",
       "extcGvHD                          int64\n",
       "CD34kgx10d6 numeric             float64\n",
       "CD3dCD34 numeric                float64\n",
       "CD3dkgx10d8 numeric             float64\n",
       "Rbodymass numeric               float64\n",
       "ANCrecovery numeric               int64\n",
       "PLTrecovery numeric               int64\n",
       "time_to_aGvHD_III_IV numeric      int64\n",
       "survival_time numeric             int64\n",
       "survival_status numeric           int64\n",
       "dtype: object"
      ]
     },
     "execution_count": 834,
     "metadata": {},
     "output_type": "execute_result"
    }
   ],
   "source": [
    "data.dtypes"
   ]
  },
  {
   "attachments": {},
   "cell_type": "markdown",
   "metadata": {},
   "source": [
    "#### Podatke koji u sklopu nekog karakterističnog obeležja čine manjinu (manje od 5%) je potrebno smestiti u zasebnu kategoriju pod 'ostalo' obeleženo kao numerička vrednost karakteristična za svaku klasu"
   ]
  },
  {
   "attachments": {},
   "cell_type": "markdown",
   "metadata": {},
   "source": [
    "Za većinu karakteristična obeležja uglavnom se samo jedna vrednost pojavljivala manje od 5%, tako da nije bilo potrebe spajati više klasa."
   ]
  },
  {
   "cell_type": "code",
   "execution_count": 867,
   "metadata": {},
   "outputs": [
    {
     "name": "stdout",
     "output_type": "stream",
     "text": [
      "survival_status numeric\n",
      "{0, 1}\n",
      "55 %\n"
     ]
    }
   ],
   "source": [
    "# provera procentualnoti ponavljanja vrednosti atributa\n",
    "attr = data.columns[36]\n",
    "print(attr)\n",
    "print(set(data[attr]))\n",
    "val = 0\n",
    "print(round(len(data[attr][data[attr] == val])/len(data[attr])*100),\"%\")"
   ]
  },
  {
   "attachments": {},
   "cell_type": "markdown",
   "metadata": {},
   "source": [
    "Za karakteristično obeležje \"Alel\", vrednost \"2\" se javlja 3%, dok se vrednost \"3\" javlja 1% - njih je potrebno spojiti u jednu klasu i ostale je potrebno preimenovati"
   ]
  },
  {
   "cell_type": "code",
   "execution_count": 814,
   "metadata": {},
   "outputs": [
    {
     "name": "stdout",
     "output_type": "stream",
     "text": [
      "{0, 1, 2, -1}\n"
     ]
    }
   ],
   "source": [
    "data[data.columns[20]].replace(3, 2, inplace = True)\n",
    "print(set(data[data.columns[20]]))"
   ]
  },
  {
   "attachments": {},
   "cell_type": "markdown",
   "metadata": {},
   "source": [
    "Za karakteristično obeležje \"HLAgrI\", vrednost \"3\" se javlja 5%, vrednost \"5\" javlja 2%, a vrednost \"7\" se javlja 3% - njih je potrebno spojiti u jednu klasu i ostale je potrebno preimenovati"
   ]
  },
  {
   "cell_type": "code",
   "execution_count": 845,
   "metadata": {},
   "outputs": [
    {
     "name": "stdout",
     "output_type": "stream",
     "text": [
      "{0, 1, 2, 3, 4}\n"
     ]
    }
   ],
   "source": [
    "data[data.columns[21]].replace(5, 3, inplace = True)\n",
    "data[data.columns[21]].replace(7, 3, inplace = True)\n",
    "print(set(data[data.columns[21]]))"
   ]
  },
  {
   "attachments": {},
   "cell_type": "markdown",
   "metadata": {},
   "source": [
    "# 2. Analiza i izbor obeležja"
   ]
  },
  {
   "cell_type": "code",
   "execution_count": null,
   "metadata": {},
   "outputs": [],
   "source": []
  }
 ],
 "metadata": {
  "kernelspec": {
   "display_name": "base",
   "language": "python",
   "name": "python3"
  },
  "language_info": {
   "codemirror_mode": {
    "name": "ipython",
    "version": 3
   },
   "file_extension": ".py",
   "mimetype": "text/x-python",
   "name": "python",
   "nbconvert_exporter": "python",
   "pygments_lexer": "ipython3",
   "version": "3.8.8"
  },
  "orig_nbformat": 4
 },
 "nbformat": 4,
 "nbformat_minor": 2
}
